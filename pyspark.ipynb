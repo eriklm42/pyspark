{
  "cells": [
    {
      "cell_type": "code",
      "execution_count": 1,
      "metadata": {
        "id": "JmcO4uWZ3OLO"
      },
      "outputs": [],
      "source": [
        "!apt-get update -qq\n",
        "!apt-get install openjdk-8-jdk-headless -qq > /dev/null\n",
        "!wget -q https://archive.apache.org/dist/spark/spark-3.1.2/spark-3.1.2-bin-hadoop2.7.tgz\n",
        "!tar xf spark-3.1.2-bin-hadoop2.7.tgz\n",
        "!pip install -q findspark"
      ]
    },
    {
      "cell_type": "code",
      "source": [
        "from google.colab import drive\n",
        "drive.mount('/content/drive')"
      ],
      "metadata": {
        "colab": {
          "base_uri": "https://localhost:8080/"
        },
        "id": "z1lN_dtE3DqO",
        "outputId": "2e29fbd4-64c7-464c-a558-1c07ba473d0b"
      },
      "execution_count": 3,
      "outputs": [
        {
          "output_type": "stream",
          "name": "stdout",
          "text": [
            "Mounted at /content/drive\n"
          ]
        }
      ]
    },
    {
      "cell_type": "code",
      "execution_count": 4,
      "metadata": {
        "id": "_4Z_1m0z3sPJ"
      },
      "outputs": [],
      "source": [
        "import os\n",
        "os.environ[\"JAVA_HOME\"] = \"/usr/lib/jvm/java-8-openjdk-amd64\"\n",
        "os.environ[\"SPARK_HOME\"] = \"/content/spark-3.1.2-bin-hadoop2.7\""
      ]
    },
    {
      "cell_type": "code",
      "execution_count": 5,
      "metadata": {
        "id": "kqdft9fpGlH0"
      },
      "outputs": [],
      "source": [
        "import findspark\n",
        "findspark.init()"
      ]
    },
    {
      "cell_type": "code",
      "execution_count": 6,
      "metadata": {
        "id": "yayRGdn_GlH1"
      },
      "outputs": [],
      "source": [
        "from pyspark.sql import SparkSession\n",
        "from pyspark.sql.types import DoubleType, StringType\n",
        "from pyspark.sql import functions as func\n",
        "import zipfile\n",
        "\n",
        "spark = SparkSession.builder \\\n",
        "    .master('local[*]') \\\n",
        "    .appName(\"Iniciando com Spark\") \\\n",
        "    .getOrCreate()"
      ]
    },
    {
      "cell_type": "code",
      "source": [
        "# zipfile.ZipFile(\"/content/drive/MyDrive/mock-spark/companies.zip\", \"r\").extractall(\"/content/drive/MyDrive/mock-spark\")\n",
        "# zipfile.ZipFile(\"/content/drive/MyDrive/mock-spark/partners.zip\", \"r\").extractall(\"/content/drive/MyDrive/mock-spark\")\n",
        "# zipfile.ZipFile(\"/content/drive/MyDrive/mock-spark/establishments.zip\", \"r\").extractall(\"/content/drive/MyDrive/mock-spark\")\n"
      ],
      "metadata": {
        "id": "X35d0q2v3FGq"
      },
      "execution_count": 8,
      "outputs": []
    },
    {
      "cell_type": "code",
      "source": [
        "companies = spark.read.csv(\"/content/drive/MyDrive/mock-spark/companies\", sep=\";\", inferSchema=True)\n",
        "partners = spark.read.csv(\"/content/drive/MyDrive/mock-spark/partners\", sep=\";\", inferSchema=True)\n",
        "establishments = spark.read.csv(\"/content/drive/MyDrive/mock-spark/establishments\", sep=\";\", inferSchema=True)\n"
      ],
      "metadata": {
        "id": "gol4EJ1f4EJ-"
      },
      "execution_count": 9,
      "outputs": []
    },
    {
      "cell_type": "code",
      "source": [
        "companies.limit(5).toPandas()"
      ],
      "metadata": {
        "colab": {
          "base_uri": "https://localhost:8080/",
          "height": 206
        },
        "id": "x01Q-P794Uxm",
        "outputId": "2fd4d5d0-6bf4-4e44-c3ff-ea2366600845"
      },
      "execution_count": 10,
      "outputs": [
        {
          "output_type": "execute_result",
          "data": {
            "text/plain": [
              "    _c0                                                _c1   _c2  _c3  \\\n",
              "0   306            FRANCAMAR REFRIGERACAO TECNICA S/C LTDA  2240   49   \n",
              "1  1355                         BRASILEIRO & OLIVEIRA LTDA  2062   49   \n",
              "2  4820  REGISTRO DE IMOVEIS, TABELIONATO 1 DE NOTAS E ...  3034   32   \n",
              "3  5347       ROSELY APARECIDA MONTEIRO CALTABIANO FREITAS  2135   50   \n",
              "4  6846                         BADU E FILHOS TECIDOS LTDA  2062   49   \n",
              "\n",
              "       _c4  _c5   _c6  \n",
              "0     0,00    1  None  \n",
              "1     0,00    5  None  \n",
              "2     0,00    5  None  \n",
              "3     0,00    5  None  \n",
              "4  4000,00    1  None  "
            ],
            "text/html": [
              "\n",
              "  <div id=\"df-bb686edd-45a1-45e1-97f0-a89ff8d8a314\">\n",
              "    <div class=\"colab-df-container\">\n",
              "      <div>\n",
              "<style scoped>\n",
              "    .dataframe tbody tr th:only-of-type {\n",
              "        vertical-align: middle;\n",
              "    }\n",
              "\n",
              "    .dataframe tbody tr th {\n",
              "        vertical-align: top;\n",
              "    }\n",
              "\n",
              "    .dataframe thead th {\n",
              "        text-align: right;\n",
              "    }\n",
              "</style>\n",
              "<table border=\"1\" class=\"dataframe\">\n",
              "  <thead>\n",
              "    <tr style=\"text-align: right;\">\n",
              "      <th></th>\n",
              "      <th>_c0</th>\n",
              "      <th>_c1</th>\n",
              "      <th>_c2</th>\n",
              "      <th>_c3</th>\n",
              "      <th>_c4</th>\n",
              "      <th>_c5</th>\n",
              "      <th>_c6</th>\n",
              "    </tr>\n",
              "  </thead>\n",
              "  <tbody>\n",
              "    <tr>\n",
              "      <th>0</th>\n",
              "      <td>306</td>\n",
              "      <td>FRANCAMAR REFRIGERACAO TECNICA S/C LTDA</td>\n",
              "      <td>2240</td>\n",
              "      <td>49</td>\n",
              "      <td>0,00</td>\n",
              "      <td>1</td>\n",
              "      <td>None</td>\n",
              "    </tr>\n",
              "    <tr>\n",
              "      <th>1</th>\n",
              "      <td>1355</td>\n",
              "      <td>BRASILEIRO &amp; OLIVEIRA LTDA</td>\n",
              "      <td>2062</td>\n",
              "      <td>49</td>\n",
              "      <td>0,00</td>\n",
              "      <td>5</td>\n",
              "      <td>None</td>\n",
              "    </tr>\n",
              "    <tr>\n",
              "      <th>2</th>\n",
              "      <td>4820</td>\n",
              "      <td>REGISTRO DE IMOVEIS, TABELIONATO 1 DE NOTAS E ...</td>\n",
              "      <td>3034</td>\n",
              "      <td>32</td>\n",
              "      <td>0,00</td>\n",
              "      <td>5</td>\n",
              "      <td>None</td>\n",
              "    </tr>\n",
              "    <tr>\n",
              "      <th>3</th>\n",
              "      <td>5347</td>\n",
              "      <td>ROSELY APARECIDA MONTEIRO CALTABIANO FREITAS</td>\n",
              "      <td>2135</td>\n",
              "      <td>50</td>\n",
              "      <td>0,00</td>\n",
              "      <td>5</td>\n",
              "      <td>None</td>\n",
              "    </tr>\n",
              "    <tr>\n",
              "      <th>4</th>\n",
              "      <td>6846</td>\n",
              "      <td>BADU E FILHOS TECIDOS LTDA</td>\n",
              "      <td>2062</td>\n",
              "      <td>49</td>\n",
              "      <td>4000,00</td>\n",
              "      <td>1</td>\n",
              "      <td>None</td>\n",
              "    </tr>\n",
              "  </tbody>\n",
              "</table>\n",
              "</div>\n",
              "      <button class=\"colab-df-convert\" onclick=\"convertToInteractive('df-bb686edd-45a1-45e1-97f0-a89ff8d8a314')\"\n",
              "              title=\"Convert this dataframe to an interactive table.\"\n",
              "              style=\"display:none;\">\n",
              "        \n",
              "  <svg xmlns=\"http://www.w3.org/2000/svg\" height=\"24px\"viewBox=\"0 0 24 24\"\n",
              "       width=\"24px\">\n",
              "    <path d=\"M0 0h24v24H0V0z\" fill=\"none\"/>\n",
              "    <path d=\"M18.56 5.44l.94 2.06.94-2.06 2.06-.94-2.06-.94-.94-2.06-.94 2.06-2.06.94zm-11 1L8.5 8.5l.94-2.06 2.06-.94-2.06-.94L8.5 2.5l-.94 2.06-2.06.94zm10 10l.94 2.06.94-2.06 2.06-.94-2.06-.94-.94-2.06-.94 2.06-2.06.94z\"/><path d=\"M17.41 7.96l-1.37-1.37c-.4-.4-.92-.59-1.43-.59-.52 0-1.04.2-1.43.59L10.3 9.45l-7.72 7.72c-.78.78-.78 2.05 0 2.83L4 21.41c.39.39.9.59 1.41.59.51 0 1.02-.2 1.41-.59l7.78-7.78 2.81-2.81c.8-.78.8-2.07 0-2.86zM5.41 20L4 18.59l7.72-7.72 1.47 1.35L5.41 20z\"/>\n",
              "  </svg>\n",
              "      </button>\n",
              "      \n",
              "  <style>\n",
              "    .colab-df-container {\n",
              "      display:flex;\n",
              "      flex-wrap:wrap;\n",
              "      gap: 12px;\n",
              "    }\n",
              "\n",
              "    .colab-df-convert {\n",
              "      background-color: #E8F0FE;\n",
              "      border: none;\n",
              "      border-radius: 50%;\n",
              "      cursor: pointer;\n",
              "      display: none;\n",
              "      fill: #1967D2;\n",
              "      height: 32px;\n",
              "      padding: 0 0 0 0;\n",
              "      width: 32px;\n",
              "    }\n",
              "\n",
              "    .colab-df-convert:hover {\n",
              "      background-color: #E2EBFA;\n",
              "      box-shadow: 0px 1px 2px rgba(60, 64, 67, 0.3), 0px 1px 3px 1px rgba(60, 64, 67, 0.15);\n",
              "      fill: #174EA6;\n",
              "    }\n",
              "\n",
              "    [theme=dark] .colab-df-convert {\n",
              "      background-color: #3B4455;\n",
              "      fill: #D2E3FC;\n",
              "    }\n",
              "\n",
              "    [theme=dark] .colab-df-convert:hover {\n",
              "      background-color: #434B5C;\n",
              "      box-shadow: 0px 1px 3px 1px rgba(0, 0, 0, 0.15);\n",
              "      filter: drop-shadow(0px 1px 2px rgba(0, 0, 0, 0.3));\n",
              "      fill: #FFFFFF;\n",
              "    }\n",
              "  </style>\n",
              "\n",
              "      <script>\n",
              "        const buttonEl =\n",
              "          document.querySelector('#df-bb686edd-45a1-45e1-97f0-a89ff8d8a314 button.colab-df-convert');\n",
              "        buttonEl.style.display =\n",
              "          google.colab.kernel.accessAllowed ? 'block' : 'none';\n",
              "\n",
              "        async function convertToInteractive(key) {\n",
              "          const element = document.querySelector('#df-bb686edd-45a1-45e1-97f0-a89ff8d8a314');\n",
              "          const dataTable =\n",
              "            await google.colab.kernel.invokeFunction('convertToInteractive',\n",
              "                                                     [key], {});\n",
              "          if (!dataTable) return;\n",
              "\n",
              "          const docLinkHtml = 'Like what you see? Visit the ' +\n",
              "            '<a target=\"_blank\" href=https://colab.research.google.com/notebooks/data_table.ipynb>data table notebook</a>'\n",
              "            + ' to learn more about interactive tables.';\n",
              "          element.innerHTML = '';\n",
              "          dataTable['output_type'] = 'display_data';\n",
              "          await google.colab.output.renderOutput(dataTable, element);\n",
              "          const docLink = document.createElement('div');\n",
              "          docLink.innerHTML = docLinkHtml;\n",
              "          element.appendChild(docLink);\n",
              "        }\n",
              "      </script>\n",
              "    </div>\n",
              "  </div>\n",
              "  "
            ]
          },
          "metadata": {},
          "execution_count": 10
        }
      ]
    },
    {
      "cell_type": "code",
      "source": [
        "companiesColNames = ['cnpj_base', 'companies_name', 'legal_nature', 'qualification_responsible', 'companies_share_capital', 'size_companies', 'federal_responsible']\n",
        "partnersColNames = ['cnpj_base', 'partners_identifier', 'partners_name_or_social_reason', 'cnpj_or_partners_cpf', 'partners_qualification', 'date_entry_society', 'country', 'legal_representative', 'representative_name', 'qualification_legal_representative', 'age_group']\n",
        "establishmentsColNames = ['cnpj_base', 'cnpj_origin', 'cnpj_dv', 'identifier_matriz_filial', 'fantasy_name', 'situation_cadastral', 'date', 'reason_cadastral_status', 'overseas_city_name', 'country', 'date_start_activity', 'cnae_main_tax', 'cnae_fiscal_secondary', 'street_type', 'street', 'number', 'complement', 'neighborhood', 'zip_code', 'uf', 'city', 'ddd_1', 'phone_1', 'ddd_2', 'phone_2', 'ddd_fax', 'fax', 'email', 'special_situation', 'date_special_situation']\n",
        "\n",
        "def renameColumns(df, newColumns):\n",
        "  for index, colName in enumerate(newColumns):\n",
        "     df = df.withColumnRenamed(f\"_c{index}\", colName)\n",
        "  return df\n",
        "\n",
        "def changeTypeColumn(df, columnName, newType):\n",
        "   df = df.withColumn(columnName, df[columnName].cast(newType))\n",
        "   return df \n",
        "\n",
        "def formatDateType(df, columnName, setString):\n",
        "   df = df.withColumn(columnName, func.to_date(df[columnName].cast(setString), \"yyyyMMdd\"))\n",
        "   return df \n",
        "\n",
        "def replaceValueColumn(df, columnName, oldValue, newValue):\n",
        "  df = df.withColumn(columnName, func.regexp_replace(columnName, oldValue, newValue))\n",
        "  return df\n"
      ],
      "metadata": {
        "id": "WrdjvPMT_-jf"
      },
      "execution_count": 11,
      "outputs": []
    },
    {
      "cell_type": "code",
      "source": [
        "companies = renameColumns(companies, companiesColNames)\n",
        "partners = renameColumns(partners, partnersColNames)\n",
        "establishments = renameColumns(establishments, establishmentsColNames)\n"
      ],
      "metadata": {
        "id": "bKPf1rUtAg06"
      },
      "execution_count": 12,
      "outputs": []
    },
    {
      "cell_type": "code",
      "source": [
        "companies.limit(5).toPandas()"
      ],
      "metadata": {
        "colab": {
          "base_uri": "https://localhost:8080/",
          "height": 389
        },
        "id": "-CDHqgf7EyE0",
        "outputId": "a9eccc78-18fd-4daf-b23f-79ea9da9d973"
      },
      "execution_count": 13,
      "outputs": [
        {
          "output_type": "execute_result",
          "data": {
            "text/plain": [
              "   cnpj_base                                     companies_name  legal_nature  \\\n",
              "0        306            FRANCAMAR REFRIGERACAO TECNICA S/C LTDA          2240   \n",
              "1       1355                         BRASILEIRO & OLIVEIRA LTDA          2062   \n",
              "2       4820  REGISTRO DE IMOVEIS, TABELIONATO 1 DE NOTAS E ...          3034   \n",
              "3       5347       ROSELY APARECIDA MONTEIRO CALTABIANO FREITAS          2135   \n",
              "4       6846                         BADU E FILHOS TECIDOS LTDA          2062   \n",
              "\n",
              "   qualification_responsible companies_share_capital  size_companies  \\\n",
              "0                         49                    0,00               1   \n",
              "1                         49                    0,00               5   \n",
              "2                         32                    0,00               5   \n",
              "3                         50                    0,00               5   \n",
              "4                         49                 4000,00               1   \n",
              "\n",
              "  federal_responsible  \n",
              "0                None  \n",
              "1                None  \n",
              "2                None  \n",
              "3                None  \n",
              "4                None  "
            ],
            "text/html": [
              "\n",
              "  <div id=\"df-5a6bcb37-8ab8-4905-97be-13455cb03079\">\n",
              "    <div class=\"colab-df-container\">\n",
              "      <div>\n",
              "<style scoped>\n",
              "    .dataframe tbody tr th:only-of-type {\n",
              "        vertical-align: middle;\n",
              "    }\n",
              "\n",
              "    .dataframe tbody tr th {\n",
              "        vertical-align: top;\n",
              "    }\n",
              "\n",
              "    .dataframe thead th {\n",
              "        text-align: right;\n",
              "    }\n",
              "</style>\n",
              "<table border=\"1\" class=\"dataframe\">\n",
              "  <thead>\n",
              "    <tr style=\"text-align: right;\">\n",
              "      <th></th>\n",
              "      <th>cnpj_base</th>\n",
              "      <th>companies_name</th>\n",
              "      <th>legal_nature</th>\n",
              "      <th>qualification_responsible</th>\n",
              "      <th>companies_share_capital</th>\n",
              "      <th>size_companies</th>\n",
              "      <th>federal_responsible</th>\n",
              "    </tr>\n",
              "  </thead>\n",
              "  <tbody>\n",
              "    <tr>\n",
              "      <th>0</th>\n",
              "      <td>306</td>\n",
              "      <td>FRANCAMAR REFRIGERACAO TECNICA S/C LTDA</td>\n",
              "      <td>2240</td>\n",
              "      <td>49</td>\n",
              "      <td>0,00</td>\n",
              "      <td>1</td>\n",
              "      <td>None</td>\n",
              "    </tr>\n",
              "    <tr>\n",
              "      <th>1</th>\n",
              "      <td>1355</td>\n",
              "      <td>BRASILEIRO &amp; OLIVEIRA LTDA</td>\n",
              "      <td>2062</td>\n",
              "      <td>49</td>\n",
              "      <td>0,00</td>\n",
              "      <td>5</td>\n",
              "      <td>None</td>\n",
              "    </tr>\n",
              "    <tr>\n",
              "      <th>2</th>\n",
              "      <td>4820</td>\n",
              "      <td>REGISTRO DE IMOVEIS, TABELIONATO 1 DE NOTAS E ...</td>\n",
              "      <td>3034</td>\n",
              "      <td>32</td>\n",
              "      <td>0,00</td>\n",
              "      <td>5</td>\n",
              "      <td>None</td>\n",
              "    </tr>\n",
              "    <tr>\n",
              "      <th>3</th>\n",
              "      <td>5347</td>\n",
              "      <td>ROSELY APARECIDA MONTEIRO CALTABIANO FREITAS</td>\n",
              "      <td>2135</td>\n",
              "      <td>50</td>\n",
              "      <td>0,00</td>\n",
              "      <td>5</td>\n",
              "      <td>None</td>\n",
              "    </tr>\n",
              "    <tr>\n",
              "      <th>4</th>\n",
              "      <td>6846</td>\n",
              "      <td>BADU E FILHOS TECIDOS LTDA</td>\n",
              "      <td>2062</td>\n",
              "      <td>49</td>\n",
              "      <td>4000,00</td>\n",
              "      <td>1</td>\n",
              "      <td>None</td>\n",
              "    </tr>\n",
              "  </tbody>\n",
              "</table>\n",
              "</div>\n",
              "      <button class=\"colab-df-convert\" onclick=\"convertToInteractive('df-5a6bcb37-8ab8-4905-97be-13455cb03079')\"\n",
              "              title=\"Convert this dataframe to an interactive table.\"\n",
              "              style=\"display:none;\">\n",
              "        \n",
              "  <svg xmlns=\"http://www.w3.org/2000/svg\" height=\"24px\"viewBox=\"0 0 24 24\"\n",
              "       width=\"24px\">\n",
              "    <path d=\"M0 0h24v24H0V0z\" fill=\"none\"/>\n",
              "    <path d=\"M18.56 5.44l.94 2.06.94-2.06 2.06-.94-2.06-.94-.94-2.06-.94 2.06-2.06.94zm-11 1L8.5 8.5l.94-2.06 2.06-.94-2.06-.94L8.5 2.5l-.94 2.06-2.06.94zm10 10l.94 2.06.94-2.06 2.06-.94-2.06-.94-.94-2.06-.94 2.06-2.06.94z\"/><path d=\"M17.41 7.96l-1.37-1.37c-.4-.4-.92-.59-1.43-.59-.52 0-1.04.2-1.43.59L10.3 9.45l-7.72 7.72c-.78.78-.78 2.05 0 2.83L4 21.41c.39.39.9.59 1.41.59.51 0 1.02-.2 1.41-.59l7.78-7.78 2.81-2.81c.8-.78.8-2.07 0-2.86zM5.41 20L4 18.59l7.72-7.72 1.47 1.35L5.41 20z\"/>\n",
              "  </svg>\n",
              "      </button>\n",
              "      \n",
              "  <style>\n",
              "    .colab-df-container {\n",
              "      display:flex;\n",
              "      flex-wrap:wrap;\n",
              "      gap: 12px;\n",
              "    }\n",
              "\n",
              "    .colab-df-convert {\n",
              "      background-color: #E8F0FE;\n",
              "      border: none;\n",
              "      border-radius: 50%;\n",
              "      cursor: pointer;\n",
              "      display: none;\n",
              "      fill: #1967D2;\n",
              "      height: 32px;\n",
              "      padding: 0 0 0 0;\n",
              "      width: 32px;\n",
              "    }\n",
              "\n",
              "    .colab-df-convert:hover {\n",
              "      background-color: #E2EBFA;\n",
              "      box-shadow: 0px 1px 2px rgba(60, 64, 67, 0.3), 0px 1px 3px 1px rgba(60, 64, 67, 0.15);\n",
              "      fill: #174EA6;\n",
              "    }\n",
              "\n",
              "    [theme=dark] .colab-df-convert {\n",
              "      background-color: #3B4455;\n",
              "      fill: #D2E3FC;\n",
              "    }\n",
              "\n",
              "    [theme=dark] .colab-df-convert:hover {\n",
              "      background-color: #434B5C;\n",
              "      box-shadow: 0px 1px 3px 1px rgba(0, 0, 0, 0.15);\n",
              "      filter: drop-shadow(0px 1px 2px rgba(0, 0, 0, 0.3));\n",
              "      fill: #FFFFFF;\n",
              "    }\n",
              "  </style>\n",
              "\n",
              "      <script>\n",
              "        const buttonEl =\n",
              "          document.querySelector('#df-5a6bcb37-8ab8-4905-97be-13455cb03079 button.colab-df-convert');\n",
              "        buttonEl.style.display =\n",
              "          google.colab.kernel.accessAllowed ? 'block' : 'none';\n",
              "\n",
              "        async function convertToInteractive(key) {\n",
              "          const element = document.querySelector('#df-5a6bcb37-8ab8-4905-97be-13455cb03079');\n",
              "          const dataTable =\n",
              "            await google.colab.kernel.invokeFunction('convertToInteractive',\n",
              "                                                     [key], {});\n",
              "          if (!dataTable) return;\n",
              "\n",
              "          const docLinkHtml = 'Like what you see? Visit the ' +\n",
              "            '<a target=\"_blank\" href=https://colab.research.google.com/notebooks/data_table.ipynb>data table notebook</a>'\n",
              "            + ' to learn more about interactive tables.';\n",
              "          element.innerHTML = '';\n",
              "          dataTable['output_type'] = 'display_data';\n",
              "          await google.colab.output.renderOutput(dataTable, element);\n",
              "          const docLink = document.createElement('div');\n",
              "          docLink.innerHTML = docLinkHtml;\n",
              "          element.appendChild(docLink);\n",
              "        }\n",
              "      </script>\n",
              "    </div>\n",
              "  </div>\n",
              "  "
            ]
          },
          "metadata": {},
          "execution_count": 13
        }
      ]
    },
    {
      "cell_type": "code",
      "source": [
        "companies.printSchema()"
      ],
      "metadata": {
        "colab": {
          "base_uri": "https://localhost:8080/"
        },
        "id": "WwiL0191GCNW",
        "outputId": "a66eeb91-5987-40eb-b051-397ff93a35fb"
      },
      "execution_count": 14,
      "outputs": [
        {
          "output_type": "stream",
          "name": "stdout",
          "text": [
            "root\n",
            " |-- cnpj_base: integer (nullable = true)\n",
            " |-- companies_name: string (nullable = true)\n",
            " |-- legal_nature: integer (nullable = true)\n",
            " |-- qualification_responsible: integer (nullable = true)\n",
            " |-- companies_share_capital: string (nullable = true)\n",
            " |-- size_companies: integer (nullable = true)\n",
            " |-- federal_responsible: string (nullable = true)\n",
            "\n"
          ]
        }
      ]
    },
    {
      "cell_type": "code",
      "source": [
        "companies = replaceValueColumn(companies, \"companies_share_capital\", \",\", \".\")\n",
        "companies = changeTypeColumn(companies, \"companies_share_capital\", DoubleType())\n",
        "establishments = formatDateType(establishments, \"date\", StringType())\n",
        "establishments = formatDateType(establishments, \"date_start_activity\", StringType())\n",
        "partners = formatDateType(partners, \"date_entry_society\", StringType())\n",
        "\n",
        "companies.printSchema()"
      ],
      "metadata": {
        "colab": {
          "base_uri": "https://localhost:8080/"
        },
        "id": "GJcTpE5kJGXo",
        "outputId": "029bc154-9bcc-425c-9018-b1c6e1b740c0"
      },
      "execution_count": 15,
      "outputs": [
        {
          "output_type": "stream",
          "name": "stdout",
          "text": [
            "root\n",
            " |-- cnpj_base: integer (nullable = true)\n",
            " |-- companies_name: string (nullable = true)\n",
            " |-- legal_nature: integer (nullable = true)\n",
            " |-- qualification_responsible: integer (nullable = true)\n",
            " |-- companies_share_capital: double (nullable = true)\n",
            " |-- size_companies: integer (nullable = true)\n",
            " |-- federal_responsible: string (nullable = true)\n",
            "\n"
          ]
        }
      ]
    },
    {
      "cell_type": "code",
      "source": [
        "establishments.printSchema()"
      ],
      "metadata": {
        "colab": {
          "base_uri": "https://localhost:8080/"
        },
        "id": "gTmXD88MQopu",
        "outputId": "334d38ed-4aa1-4888-9d51-ba48fe53cc0a"
      },
      "execution_count": 16,
      "outputs": [
        {
          "output_type": "stream",
          "name": "stdout",
          "text": [
            "root\n",
            " |-- cnpj_base: integer (nullable = true)\n",
            " |-- cnpj_origin: integer (nullable = true)\n",
            " |-- cnpj_dv: integer (nullable = true)\n",
            " |-- identifier_matriz_filial: integer (nullable = true)\n",
            " |-- fantasy_name: string (nullable = true)\n",
            " |-- situation_cadastral: integer (nullable = true)\n",
            " |-- date: date (nullable = true)\n",
            " |-- motivo_situacao_cadastral: integer (nullable = true)\n",
            " |-- overseas_city_name: string (nullable = true)\n",
            " |-- country: integer (nullable = true)\n",
            " |-- date_start_activity: date (nullable = true)\n",
            " |-- cnae_main_tax: integer (nullable = true)\n",
            " |-- cnae_fiscal_secondary: string (nullable = true)\n",
            " |-- street_type: string (nullable = true)\n",
            " |-- street: string (nullable = true)\n",
            " |-- number: string (nullable = true)\n",
            " |-- complement: string (nullable = true)\n",
            " |-- neighborhood: string (nullable = true)\n",
            " |-- zip_code: integer (nullable = true)\n",
            " |-- uf: string (nullable = true)\n",
            " |-- city: integer (nullable = true)\n",
            " |-- ddd_1: string (nullable = true)\n",
            " |-- phone_1: string (nullable = true)\n",
            " |-- ddd_2: string (nullable = true)\n",
            " |-- phone_2: string (nullable = true)\n",
            " |-- ddd_fax: integer (nullable = true)\n",
            " |-- fax: string (nullable = true)\n",
            " |-- email: string (nullable = true)\n",
            " |-- special_situation: string (nullable = true)\n",
            " |-- date_special_situation: integer (nullable = true)\n",
            "\n"
          ]
        }
      ]
    },
    {
      "cell_type": "code",
      "source": [
        "partners.printSchema()"
      ],
      "metadata": {
        "colab": {
          "base_uri": "https://localhost:8080/"
        },
        "id": "w3Lrh9k_QogR",
        "outputId": "f78c1311-c0de-4713-9f12-a96d3858b930"
      },
      "execution_count": 17,
      "outputs": [
        {
          "output_type": "stream",
          "name": "stdout",
          "text": [
            "root\n",
            " |-- cnpj_base: integer (nullable = true)\n",
            " |-- partners_identifier: integer (nullable = true)\n",
            " |-- partners_name_or_social_reason: string (nullable = true)\n",
            " |-- cnpj_or_partners_cpf: string (nullable = true)\n",
            " |-- partners_qualification: integer (nullable = true)\n",
            " |-- date_entry_society: date (nullable = true)\n",
            " |-- country: integer (nullable = true)\n",
            " |-- legal_representative: string (nullable = true)\n",
            " |-- representative_name: string (nullable = true)\n",
            " |-- qualification_legal_representative: integer (nullable = true)\n",
            " |-- age_group: integer (nullable = true)\n",
            "\n"
          ]
        }
      ]
    },
    {
      "cell_type": "code",
      "source": [
        "companies.limit(5).toPandas()"
      ],
      "metadata": {
        "colab": {
          "base_uri": "https://localhost:8080/",
          "height": 389
        },
        "id": "Fo-8w5F7J_Tp",
        "outputId": "dabde32e-67af-4e74-b63b-abbece43bd4a"
      },
      "execution_count": 18,
      "outputs": [
        {
          "output_type": "execute_result",
          "data": {
            "text/plain": [
              "   cnpj_base                                     companies_name  legal_nature  \\\n",
              "0        306            FRANCAMAR REFRIGERACAO TECNICA S/C LTDA          2240   \n",
              "1       1355                         BRASILEIRO & OLIVEIRA LTDA          2062   \n",
              "2       4820  REGISTRO DE IMOVEIS, TABELIONATO 1 DE NOTAS E ...          3034   \n",
              "3       5347       ROSELY APARECIDA MONTEIRO CALTABIANO FREITAS          2135   \n",
              "4       6846                         BADU E FILHOS TECIDOS LTDA          2062   \n",
              "\n",
              "   qualification_responsible  companies_share_capital  size_companies  \\\n",
              "0                         49                      0.0               1   \n",
              "1                         49                      0.0               5   \n",
              "2                         32                      0.0               5   \n",
              "3                         50                      0.0               5   \n",
              "4                         49                   4000.0               1   \n",
              "\n",
              "  federal_responsible  \n",
              "0                None  \n",
              "1                None  \n",
              "2                None  \n",
              "3                None  \n",
              "4                None  "
            ],
            "text/html": [
              "\n",
              "  <div id=\"df-6e6bbaa0-01d9-4f0b-b762-d2858660b407\">\n",
              "    <div class=\"colab-df-container\">\n",
              "      <div>\n",
              "<style scoped>\n",
              "    .dataframe tbody tr th:only-of-type {\n",
              "        vertical-align: middle;\n",
              "    }\n",
              "\n",
              "    .dataframe tbody tr th {\n",
              "        vertical-align: top;\n",
              "    }\n",
              "\n",
              "    .dataframe thead th {\n",
              "        text-align: right;\n",
              "    }\n",
              "</style>\n",
              "<table border=\"1\" class=\"dataframe\">\n",
              "  <thead>\n",
              "    <tr style=\"text-align: right;\">\n",
              "      <th></th>\n",
              "      <th>cnpj_base</th>\n",
              "      <th>companies_name</th>\n",
              "      <th>legal_nature</th>\n",
              "      <th>qualification_responsible</th>\n",
              "      <th>companies_share_capital</th>\n",
              "      <th>size_companies</th>\n",
              "      <th>federal_responsible</th>\n",
              "    </tr>\n",
              "  </thead>\n",
              "  <tbody>\n",
              "    <tr>\n",
              "      <th>0</th>\n",
              "      <td>306</td>\n",
              "      <td>FRANCAMAR REFRIGERACAO TECNICA S/C LTDA</td>\n",
              "      <td>2240</td>\n",
              "      <td>49</td>\n",
              "      <td>0.0</td>\n",
              "      <td>1</td>\n",
              "      <td>None</td>\n",
              "    </tr>\n",
              "    <tr>\n",
              "      <th>1</th>\n",
              "      <td>1355</td>\n",
              "      <td>BRASILEIRO &amp; OLIVEIRA LTDA</td>\n",
              "      <td>2062</td>\n",
              "      <td>49</td>\n",
              "      <td>0.0</td>\n",
              "      <td>5</td>\n",
              "      <td>None</td>\n",
              "    </tr>\n",
              "    <tr>\n",
              "      <th>2</th>\n",
              "      <td>4820</td>\n",
              "      <td>REGISTRO DE IMOVEIS, TABELIONATO 1 DE NOTAS E ...</td>\n",
              "      <td>3034</td>\n",
              "      <td>32</td>\n",
              "      <td>0.0</td>\n",
              "      <td>5</td>\n",
              "      <td>None</td>\n",
              "    </tr>\n",
              "    <tr>\n",
              "      <th>3</th>\n",
              "      <td>5347</td>\n",
              "      <td>ROSELY APARECIDA MONTEIRO CALTABIANO FREITAS</td>\n",
              "      <td>2135</td>\n",
              "      <td>50</td>\n",
              "      <td>0.0</td>\n",
              "      <td>5</td>\n",
              "      <td>None</td>\n",
              "    </tr>\n",
              "    <tr>\n",
              "      <th>4</th>\n",
              "      <td>6846</td>\n",
              "      <td>BADU E FILHOS TECIDOS LTDA</td>\n",
              "      <td>2062</td>\n",
              "      <td>49</td>\n",
              "      <td>4000.0</td>\n",
              "      <td>1</td>\n",
              "      <td>None</td>\n",
              "    </tr>\n",
              "  </tbody>\n",
              "</table>\n",
              "</div>\n",
              "      <button class=\"colab-df-convert\" onclick=\"convertToInteractive('df-6e6bbaa0-01d9-4f0b-b762-d2858660b407')\"\n",
              "              title=\"Convert this dataframe to an interactive table.\"\n",
              "              style=\"display:none;\">\n",
              "        \n",
              "  <svg xmlns=\"http://www.w3.org/2000/svg\" height=\"24px\"viewBox=\"0 0 24 24\"\n",
              "       width=\"24px\">\n",
              "    <path d=\"M0 0h24v24H0V0z\" fill=\"none\"/>\n",
              "    <path d=\"M18.56 5.44l.94 2.06.94-2.06 2.06-.94-2.06-.94-.94-2.06-.94 2.06-2.06.94zm-11 1L8.5 8.5l.94-2.06 2.06-.94-2.06-.94L8.5 2.5l-.94 2.06-2.06.94zm10 10l.94 2.06.94-2.06 2.06-.94-2.06-.94-.94-2.06-.94 2.06-2.06.94z\"/><path d=\"M17.41 7.96l-1.37-1.37c-.4-.4-.92-.59-1.43-.59-.52 0-1.04.2-1.43.59L10.3 9.45l-7.72 7.72c-.78.78-.78 2.05 0 2.83L4 21.41c.39.39.9.59 1.41.59.51 0 1.02-.2 1.41-.59l7.78-7.78 2.81-2.81c.8-.78.8-2.07 0-2.86zM5.41 20L4 18.59l7.72-7.72 1.47 1.35L5.41 20z\"/>\n",
              "  </svg>\n",
              "      </button>\n",
              "      \n",
              "  <style>\n",
              "    .colab-df-container {\n",
              "      display:flex;\n",
              "      flex-wrap:wrap;\n",
              "      gap: 12px;\n",
              "    }\n",
              "\n",
              "    .colab-df-convert {\n",
              "      background-color: #E8F0FE;\n",
              "      border: none;\n",
              "      border-radius: 50%;\n",
              "      cursor: pointer;\n",
              "      display: none;\n",
              "      fill: #1967D2;\n",
              "      height: 32px;\n",
              "      padding: 0 0 0 0;\n",
              "      width: 32px;\n",
              "    }\n",
              "\n",
              "    .colab-df-convert:hover {\n",
              "      background-color: #E2EBFA;\n",
              "      box-shadow: 0px 1px 2px rgba(60, 64, 67, 0.3), 0px 1px 3px 1px rgba(60, 64, 67, 0.15);\n",
              "      fill: #174EA6;\n",
              "    }\n",
              "\n",
              "    [theme=dark] .colab-df-convert {\n",
              "      background-color: #3B4455;\n",
              "      fill: #D2E3FC;\n",
              "    }\n",
              "\n",
              "    [theme=dark] .colab-df-convert:hover {\n",
              "      background-color: #434B5C;\n",
              "      box-shadow: 0px 1px 3px 1px rgba(0, 0, 0, 0.15);\n",
              "      filter: drop-shadow(0px 1px 2px rgba(0, 0, 0, 0.3));\n",
              "      fill: #FFFFFF;\n",
              "    }\n",
              "  </style>\n",
              "\n",
              "      <script>\n",
              "        const buttonEl =\n",
              "          document.querySelector('#df-6e6bbaa0-01d9-4f0b-b762-d2858660b407 button.colab-df-convert');\n",
              "        buttonEl.style.display =\n",
              "          google.colab.kernel.accessAllowed ? 'block' : 'none';\n",
              "\n",
              "        async function convertToInteractive(key) {\n",
              "          const element = document.querySelector('#df-6e6bbaa0-01d9-4f0b-b762-d2858660b407');\n",
              "          const dataTable =\n",
              "            await google.colab.kernel.invokeFunction('convertToInteractive',\n",
              "                                                     [key], {});\n",
              "          if (!dataTable) return;\n",
              "\n",
              "          const docLinkHtml = 'Like what you see? Visit the ' +\n",
              "            '<a target=\"_blank\" href=https://colab.research.google.com/notebooks/data_table.ipynb>data table notebook</a>'\n",
              "            + ' to learn more about interactive tables.';\n",
              "          element.innerHTML = '';\n",
              "          dataTable['output_type'] = 'display_data';\n",
              "          await google.colab.output.renderOutput(dataTable, element);\n",
              "          const docLink = document.createElement('div');\n",
              "          docLink.innerHTML = docLinkHtml;\n",
              "          element.appendChild(docLink);\n",
              "        }\n",
              "      </script>\n",
              "    </div>\n",
              "  </div>\n",
              "  "
            ]
          },
          "metadata": {},
          "execution_count": 18
        }
      ]
    },
    {
      "cell_type": "code",
      "source": [
        "partners\\\n",
        "  .select(\"partners_name_or_social_reason\", \"age_group\", func.year(\"date_entry_society\").alias(\"year_entry_society\"))\\\n",
        "  .orderBy([\"year_entry_society\", \"age_group\"], ascending=[False, False])\\\n",
        "  .show(5, False)"
      ],
      "metadata": {
        "colab": {
          "base_uri": "https://localhost:8080/"
        },
        "id": "ZH3WyTqhRhSe",
        "outputId": "3e6cbf35-6dba-4375-eec1-5310138436b6"
      },
      "execution_count": 27,
      "outputs": [
        {
          "output_type": "stream",
          "name": "stdout",
          "text": [
            "+------------------------------+---------+------------------+\n",
            "|partners_name_or_social_reason|age_group|year_entry_society|\n",
            "+------------------------------+---------+------------------+\n",
            "|EDGAR FRANCISCO DA SILVA      |9        |2021              |\n",
            "|WILLIAM WHITING BEACH VEALE   |9        |2021              |\n",
            "|ANTONIO TAVARES DE ANDRADE    |9        |2021              |\n",
            "|AURA MARIA DE ANDRADE         |9        |2021              |\n",
            "|ANTONIA DE SOUSA VIEIRA       |9        |2021              |\n",
            "+------------------------------+---------+------------------+\n",
            "only showing top 5 rows\n",
            "\n"
          ]
        }
      ]
    },
    {
      "cell_type": "code",
      "source": [
        "partners\\\n",
        "  .select([func.count(func.when(func.isnull(column), 1)).alias(column) for column in partners.columns])\\\n",
        "  .show()"
      ],
      "metadata": {
        "colab": {
          "base_uri": "https://localhost:8080/"
        },
        "id": "jNUR7NBfSEQ1",
        "outputId": "1ba002ab-ed36-4e88-dd6f-f71fe6a07d5e"
      },
      "execution_count": 21,
      "outputs": [
        {
          "output_type": "stream",
          "name": "stdout",
          "text": [
            "+---------+-------------------+------------------------------+--------------------+----------------------+------------------+-------+--------------------+-------------------+----------------------------------+---------+\n",
            "|cnpj_base|partners_identifier|partners_name_or_social_reason|cnpj_or_partners_cpf|partners_qualification|date_entry_society|country|legal_representative|representative_name|qualification_legal_representative|age_group|\n",
            "+---------+-------------------+------------------------------+--------------------+----------------------+------------------+-------+--------------------+-------------------+----------------------------------+---------+\n",
            "|        0|                  0|                           208|                1234|                     0|                 1|2038255|                   0|            1995432|                                 0|        0|\n",
            "+---------+-------------------+------------------------------+--------------------+----------------------+------------------+-------+--------------------+-------------------+----------------------------------+---------+\n",
            "\n"
          ]
        }
      ]
    },
    {
      "cell_type": "code",
      "source": [
        "companies\\\n",
        "  .where(\"companies_share_capital==50\")\\\n",
        "  .show(5, False)"
      ],
      "metadata": {
        "colab": {
          "base_uri": "https://localhost:8080/"
        },
        "id": "NFF3E9tNUcGx",
        "outputId": "71363ece-3619-483b-e45c-020106f83dc8"
      },
      "execution_count": 28,
      "outputs": [
        {
          "output_type": "stream",
          "name": "stdout",
          "text": [
            "+---------+------------------------------------+------------+-------------------------+-----------------------+--------------+-------------------+\n",
            "|cnpj_base|companies_name                      |legal_nature|qualification_responsible|companies_share_capital|size_companies|federal_responsible|\n",
            "+---------+------------------------------------+------------+-------------------------+-----------------------+--------------+-------------------+\n",
            "|17350147 |ERIK MARCELO DOS SANTOS 42107848858 |2135        |50                       |50.0                   |1             |null               |\n",
            "|17833214 |ALEXANDRE MACHADO LIMA 73750123772  |2135        |50                       |50.0                   |1             |null               |\n",
            "|20860830 |YASMIN MOURA DA FONSECA 13457709793 |2135        |50                       |50.0                   |1             |null               |\n",
            "|22242856 |JOAO CESAR MESSIAS 08707149883      |2135        |50                       |50.0                   |1             |null               |\n",
            "|23238540 |EVERTON ROBERTO DA SILVA 42101963809|2135        |50                       |50.0                   |1             |null               |\n",
            "+---------+------------------------------------+------------+-------------------------+-----------------------+--------------+-------------------+\n",
            "only showing top 5 rows\n",
            "\n"
          ]
        }
      ]
    },
    {
      "cell_type": "code",
      "source": [
        "partners\\\n",
        "  .select(\"partners_name_or_social_reason\")\\\n",
        "  .where(partners[\"partners_name_or_social_reason\"].startswith(\"MARIA\"))\\\n",
        "  .where(partners[\"partners_name_or_social_reason\"].endswith(\"SILVA\"))\\\n",
        "  .limit(20)\\\n",
        "  .show(20, False)"
      ],
      "metadata": {
        "colab": {
          "base_uri": "https://localhost:8080/"
        },
        "id": "oCIr40zjZ7uY",
        "outputId": "e88e6f60-f053-4faa-ac82-2a19105a034f"
      },
      "execution_count": 41,
      "outputs": [
        {
          "output_type": "stream",
          "name": "stdout",
          "text": [
            "+----------------------------------+\n",
            "|partners_name_or_social_reason    |\n",
            "+----------------------------------+\n",
            "|MARIA LUIZA DA SILVA              |\n",
            "|MARIA ANGELICA DO NASCIMENTO SILVA|\n",
            "|MARIA ALEXANDRINA DA SILVA        |\n",
            "|MARIA DE FATIMA DA SILVA          |\n",
            "|MARIA VALDETE FERNANDES DA SILVA  |\n",
            "|MARIA ISABEL DA SILVA             |\n",
            "|MARIA DE FATIMA BATISTA DA SILVA  |\n",
            "|MARIA DE FATIMA DA SILVA          |\n",
            "|MARIA DA PENHA HENRIQUE DA SILVA  |\n",
            "|MARIA ANTONIA NOGUEIRA SILVA      |\n",
            "|MARIA APARECIDA DA SILVA          |\n",
            "|MARIA EMILIA PEREIRA DA SILVA     |\n",
            "|MARIA GORETI BOTELHO DA SILVA     |\n",
            "|MARIA DA PIEDADE SILVA            |\n",
            "|MARIA MADALENA VIEIRA DA SILVA    |\n",
            "|MARIA NAILZA DA SILVA             |\n",
            "|MARIA APARECIDA DUARTE DA SILVA   |\n",
            "|MARIA DO SOCORRO TAVARES DA SILVA |\n",
            "|MARIA CRISTINA SANCHES DA SILVA   |\n",
            "|MARIA DO SOCORRO DA SILVA         |\n",
            "+----------------------------------+\n",
            "\n"
          ]
        }
      ]
    },
    {
      "cell_type": "code",
      "source": [
        "partners\\\n",
        "  .select(\"partners_name_or_social_reason\")\\\n",
        "  .where(partners[\"partners_name_or_social_reason\"].like(\"ERIK %\"))\\\n",
        "  .show(truncate=False)"
      ],
      "metadata": {
        "colab": {
          "base_uri": "https://localhost:8080/"
        },
        "id": "xP6CtyXBfk7v",
        "outputId": "a0542f13-397e-4158-d570-7999610af394"
      },
      "execution_count": 50,
      "outputs": [
        {
          "output_type": "stream",
          "name": "stdout",
          "text": [
            "+-------------------------------+\n",
            "|partners_name_or_social_reason |\n",
            "+-------------------------------+\n",
            "|ERIK GUSTAF SAMUEL ANDERSSON   |\n",
            "|ERIK CARNEIRO DA SILVA         |\n",
            "|ERIK PEROTTA BIRKELAND         |\n",
            "|ERIK CRANSTON WOODHEAD SIEGMANN|\n",
            "|ERIK JEAN DE ASSIS MENEZES     |\n",
            "|ERIK DOUGLAS DE ANDRADA        |\n",
            "|ERIK ROCUMBACK                 |\n",
            "|ERIK LIMA VALENTIM             |\n",
            "|ERIK KURKOWSKI WEBER           |\n",
            "|ERIK KAZUO TAKARA              |\n",
            "|ERIK BRUNO VILELA DOS SANTOS   |\n",
            "|ERIK DE MARIA                  |\n",
            "|ERIK JAYSON DE QUEIROZ SORIANO |\n",
            "|ERIK DUARTE BIANCHI            |\n",
            "|ERIK DUARTE RODRIGUES          |\n",
            "|ERIK DA SILVA                  |\n",
            "|ERIK PETERSON DE JESUS         |\n",
            "|ERIK STEIN VIEIRA MANICOBA     |\n",
            "|ERIK SPADA DA SILVA            |\n",
            "|ERIK GALARDI                   |\n",
            "+-------------------------------+\n",
            "only showing top 20 rows\n",
            "\n"
          ]
        }
      ]
    },
    {
      "cell_type": "code",
      "source": [
        "partners\\\n",
        "  .select(func.year(\"date_entry_society\").alias(\"entry_year\"))\\\n",
        "  .where(\"entry_year >= 2010\")\\\n",
        "  .groupBy(\"entry_year\")\\\n",
        "  .count()\\\n",
        "  .orderBy(\"entry_year\", ascending=True)\\\n",
        "  .show()"
      ],
      "metadata": {
        "colab": {
          "base_uri": "https://localhost:8080/"
        },
        "id": "92ZXTAmGhrIo",
        "outputId": "b5c60710-14e9-4bf0-acf8-ab86a3371cfc"
      },
      "execution_count": 53,
      "outputs": [
        {
          "output_type": "stream",
          "name": "stdout",
          "text": [
            "+----------+------+\n",
            "|entry_year| count|\n",
            "+----------+------+\n",
            "|      2010| 79337|\n",
            "|      2011| 83906|\n",
            "|      2012| 80101|\n",
            "|      2013| 83919|\n",
            "|      2014| 80590|\n",
            "|      2015| 80906|\n",
            "|      2016| 81587|\n",
            "|      2017| 90221|\n",
            "|      2018| 99935|\n",
            "|      2019|118248|\n",
            "|      2020|125927|\n",
            "|      2021| 56316|\n",
            "+----------+------+\n",
            "\n"
          ]
        }
      ]
    },
    {
      "cell_type": "code",
      "source": [
        "companies\\\n",
        "  .select(\"cnpj_base\", \"size_companies\", \"companies_share_capital\")\\\n",
        "  .groupBy(\"size_companies\")\\\n",
        "  .agg(\n",
        "      func.mean(\"companies_share_capital\").alias(\"mean_share_capital\"),\n",
        "      func.count(\"cnpj_base\").alias(\"frequency\")\n",
        "  )\\\n",
        "  .orderBy(\"size_companies\", ascending=True)\\\n",
        "  .show()"
      ],
      "metadata": {
        "colab": {
          "base_uri": "https://localhost:8080/"
        },
        "id": "TNwWsEHWinEj",
        "outputId": "cc470eac-eae9-44f8-e871-65643194481b"
      },
      "execution_count": 54,
      "outputs": [
        {
          "output_type": "stream",
          "name": "stdout",
          "text": [
            "+--------------+------------------+---------+\n",
            "|size_companies|mean_share_capital|frequency|\n",
            "+--------------+------------------+---------+\n",
            "|          null|  8.35421888053467|     5985|\n",
            "|             1|339994.53313506936|  3129043|\n",
            "|             3|2601001.7677092673|   115151|\n",
            "|             5| 708660.4208249798|  1335500|\n",
            "+--------------+------------------+---------+\n",
            "\n"
          ]
        }
      ]
    },
    {
      "cell_type": "code",
      "source": [
        "companiesWithEstablishments = establishments.join(companies, \"cnpj_base\", how=\"inner\")\n",
        "companiesWithEstablishments.printSchema()"
      ],
      "metadata": {
        "colab": {
          "base_uri": "https://localhost:8080/"
        },
        "id": "DyxXvRVBlVuY",
        "outputId": "45b92e13-1bf2-40a0-ce37-e20a29bcc246"
      },
      "execution_count": 65,
      "outputs": [
        {
          "output_type": "stream",
          "name": "stdout",
          "text": [
            "root\n",
            " |-- cnpj_base: integer (nullable = true)\n",
            " |-- cnpj_origin: integer (nullable = true)\n",
            " |-- cnpj_dv: integer (nullable = true)\n",
            " |-- identifier_matriz_filial: integer (nullable = true)\n",
            " |-- fantasy_name: string (nullable = true)\n",
            " |-- situation_cadastral: integer (nullable = true)\n",
            " |-- date: date (nullable = true)\n",
            " |-- motivo_situacao_cadastral: integer (nullable = true)\n",
            " |-- overseas_city_name: string (nullable = true)\n",
            " |-- country: integer (nullable = true)\n",
            " |-- date_start_activity: date (nullable = true)\n",
            " |-- cnae_main_tax: integer (nullable = true)\n",
            " |-- cnae_fiscal_secondary: string (nullable = true)\n",
            " |-- street_type: string (nullable = true)\n",
            " |-- street: string (nullable = true)\n",
            " |-- number: string (nullable = true)\n",
            " |-- complement: string (nullable = true)\n",
            " |-- neighborhood: string (nullable = true)\n",
            " |-- zip_code: integer (nullable = true)\n",
            " |-- uf: string (nullable = true)\n",
            " |-- city: integer (nullable = true)\n",
            " |-- ddd_1: string (nullable = true)\n",
            " |-- phone_1: string (nullable = true)\n",
            " |-- ddd_2: string (nullable = true)\n",
            " |-- phone_2: string (nullable = true)\n",
            " |-- ddd_fax: integer (nullable = true)\n",
            " |-- fax: string (nullable = true)\n",
            " |-- email: string (nullable = true)\n",
            " |-- special_situation: string (nullable = true)\n",
            " |-- date_special_situation: integer (nullable = true)\n",
            " |-- companies_name: string (nullable = true)\n",
            " |-- legal_nature: integer (nullable = true)\n",
            " |-- qualification_responsible: integer (nullable = true)\n",
            " |-- companies_share_capital: double (nullable = true)\n",
            " |-- size_companies: integer (nullable = true)\n",
            " |-- federal_responsible: string (nullable = true)\n",
            "\n"
          ]
        }
      ]
    },
    {
      "cell_type": "code",
      "source": [
        "freq = companiesWithEstablishments\\\n",
        "  .select(\n",
        "      \"cnpj_base\",\n",
        "      func.year(\"date_start_activity\").alias(\"start_date\")\n",
        "  ).where(\"start_date >= 2010\")\\\n",
        "  .groupBy(\"start_date\")\\\n",
        "  .agg(func.count(\"cnpj_base\").alias(\"frequency\"))\\\n",
        "  .orderBy(\"start_date\", ascening=True)\\\n"
      ],
      "metadata": {
        "id": "3pPyU3fEn-Lx"
      },
      "execution_count": 68,
      "outputs": []
    },
    {
      "cell_type": "code",
      "source": [
        "freq.union(\n",
        "    freq.select(\n",
        "        func.lit(\"Total\").alias(\"start_date\"),\n",
        "        func.sum(freq.frequency).alias(\"frequency\")\n",
        "    )\n",
        ").show()\n",
        "\n"
      ],
      "metadata": {
        "colab": {
          "base_uri": "https://localhost:8080/"
        },
        "id": "VXl5KBVmpAUd",
        "outputId": "b3bf95dd-e9e3-42d2-cac2-26c5b2136a51"
      },
      "execution_count": 71,
      "outputs": [
        {
          "output_type": "stream",
          "name": "stdout",
          "text": [
            "+----------+---------+\n",
            "|start_date|frequency|\n",
            "+----------+---------+\n",
            "|      2010|   154159|\n",
            "|      2011|   172677|\n",
            "|      2012|   232480|\n",
            "|      2013|   198424|\n",
            "|      2014|   202276|\n",
            "|      2015|   212523|\n",
            "|      2016|   265417|\n",
            "|      2017|   237292|\n",
            "|      2018|   275435|\n",
            "|      2019|   325922|\n",
            "|      2020|   400654|\n",
            "|      2021|   153275|\n",
            "|     Total|  2830534|\n",
            "+----------+---------+\n",
            "\n"
          ]
        }
      ]
    },
    {
      "cell_type": "code",
      "source": [
        "companiesWithEstablishments.createOrReplaceTempView(\"companiesWithEstablishmentsView\")\n",
        "\n"
      ],
      "metadata": {
        "id": "TfcDQcCEr2C4"
      },
      "execution_count": 72,
      "outputs": []
    },
    {
      "cell_type": "code",
      "source": [
        "freqSQL = spark\\\n",
        "  .sql(\"\"\"\n",
        "      SELECT YEAR(date_start_activity) AS start_date, COUNT(cnpj_base) AS frequency\n",
        "        FROM companiesWithEstablishmentsView\n",
        "        WHERE YEAR(date_start_activity) >= 2010\n",
        "        GROUP BY start_date\n",
        "        ORDER BY start_date\n",
        "    \"\"\")\n",
        "\n",
        "freqSQL.show()"
      ],
      "metadata": {
        "colab": {
          "base_uri": "https://localhost:8080/"
        },
        "id": "4u85VZWnsb0B",
        "outputId": "bcfb355a-408b-4f8f-9a6e-0ad9c25ea444"
      },
      "execution_count": 75,
      "outputs": [
        {
          "output_type": "stream",
          "name": "stdout",
          "text": [
            "+----------+---------+\n",
            "|start_date|frequency|\n",
            "+----------+---------+\n",
            "|      2010|   154159|\n",
            "|      2011|   172677|\n",
            "|      2012|   232480|\n",
            "|      2013|   198424|\n",
            "|      2014|   202276|\n",
            "|      2015|   212523|\n",
            "|      2016|   265417|\n",
            "|      2017|   237292|\n",
            "|      2018|   275435|\n",
            "|      2019|   325922|\n",
            "|      2020|   400654|\n",
            "|      2021|   153275|\n",
            "+----------+---------+\n",
            "\n"
          ]
        }
      ]
    },
    {
      "cell_type": "code",
      "source": [
        "freqSQL.createOrReplaceTempView(\"freqSQLView\")"
      ],
      "metadata": {
        "id": "-76edncjtbrA"
      },
      "execution_count": 81,
      "outputs": []
    },
    {
      "cell_type": "code",
      "source": [
        "spark\\\n",
        "  .sql(\"\"\"\n",
        "    SELECT * \n",
        "      FROM freqSQLView\n",
        "    UNION ALL \n",
        "    SELECT 'Total' AS start_date, SUM(frequency) AS frequency \n",
        "      FROM freqSQLView\n",
        "  \"\"\")\\\n",
        "  .show()"
      ],
      "metadata": {
        "colab": {
          "base_uri": "https://localhost:8080/"
        },
        "id": "rNLpcGhrtMgn",
        "outputId": "6b2f006b-241a-41fc-eed1-1916364de635"
      },
      "execution_count": 82,
      "outputs": [
        {
          "output_type": "stream",
          "name": "stdout",
          "text": [
            "+----------+---------+\n",
            "|start_date|frequency|\n",
            "+----------+---------+\n",
            "|      2010|   154159|\n",
            "|      2011|   172677|\n",
            "|      2012|   232480|\n",
            "|      2013|   198424|\n",
            "|      2014|   202276|\n",
            "|      2015|   212523|\n",
            "|      2016|   265417|\n",
            "|      2017|   237292|\n",
            "|      2018|   275435|\n",
            "|      2019|   325922|\n",
            "|      2020|   400654|\n",
            "|      2021|   153275|\n",
            "|     Total|  2830534|\n",
            "+----------+---------+\n",
            "\n"
          ]
        }
      ]
    },
    {
      "cell_type": "code",
      "source": [
        "companies.write.parquet(\n",
        "    path=\"/content/drive/MyDrive/mock-spark/output/companies\",\n",
        "    mode=\"overwrite\",\n",
        ")"
      ],
      "metadata": {
        "id": "HTWnqmYov7pB"
      },
      "execution_count": 88,
      "outputs": []
    },
    {
      "cell_type": "code",
      "source": [
        "partners.write.parquet(\n",
        "    \"/content/drive/MyDrive/mock-spark/output/partners\",\n",
        "    mode=\"overwrite\",\n",
        ")"
      ],
      "metadata": {
        "id": "2HKFnp16wNSV"
      },
      "execution_count": 89,
      "outputs": []
    },
    {
      "cell_type": "code",
      "source": [
        "establishments.write.csv(\n",
        "    path=\"/content/drive/MyDrive/mock-spark/output/establishments\",\n",
        "    mode=\"overwrite\",\n",
        "    sep=\";\",\n",
        "    header=True\n",
        ")"
      ],
      "metadata": {
        "id": "uMLlPmiFwNKy"
      },
      "execution_count": 95,
      "outputs": []
    },
    {
      "cell_type": "code",
      "source": [
        "companiesWithEstablishments.coalesce(1).write.csv(\n",
        "    path=\"/content/drive/MyDrive/mock-spark/output/companies_establishments\",\n",
        "    mode=\"overwrite\",\n",
        "    sep=\";\",\n",
        "    header=True\n",
        ")"
      ],
      "metadata": {
        "id": "e_isVm9ewNAN"
      },
      "execution_count": 96,
      "outputs": []
    },
    {
      "cell_type": "code",
      "source": [
        ""
      ],
      "metadata": {
        "id": "uLIc2mLIzt4o"
      },
      "execution_count": null,
      "outputs": []
    }
  ],
  "metadata": {
    "colab": {
      "collapsed_sections": [],
      "name": "pyspark.ipynb",
      "provenance": []
    },
    "kernelspec": {
      "display_name": "Python 3",
      "language": "python",
      "name": "python3"
    },
    "language_info": {
      "codemirror_mode": {
        "name": "ipython",
        "version": 3
      },
      "file_extension": ".py",
      "mimetype": "text/x-python",
      "name": "python",
      "nbconvert_exporter": "python",
      "pygments_lexer": "ipython3",
      "version": "3.8.8"
    },
    "varInspector": {
      "cols": {
        "lenName": 16,
        "lenType": 16,
        "lenVar": 40
      },
      "kernels_config": {
        "python": {
          "delete_cmd_postfix": "",
          "delete_cmd_prefix": "del ",
          "library": "var_list.py",
          "varRefreshCmd": "print(var_dic_list())"
        },
        "r": {
          "delete_cmd_postfix": ") ",
          "delete_cmd_prefix": "rm(",
          "library": "var_list.r",
          "varRefreshCmd": "cat(var_dic_list()) "
        }
      },
      "types_to_exclude": [
        "module",
        "function",
        "builtin_function_or_method",
        "instance",
        "_Feature"
      ],
      "window_display": false
    }
  },
  "nbformat": 4,
  "nbformat_minor": 0
}